{
 "cells": [
  {
   "cell_type": "markdown",
   "metadata": {},
   "source": [
    "# Introduction\n",
    "\n",
    "One of the major issues on earth is car accidents. It can get pretty ugly depending on the severity. It's also dangerous. Accidents occur due to natural reasons (snow, storms, typhoons etc.), or due to negligence (drunk driving, or driving while high, or speeding up when angry, or just plain racing your friend to an invisible finish line you made up). Accidents can potentially result in property damage, injury and/or death. Rod Traffic Accidents are a global problem, and it's estimated to cause 13 million deaths, and 20-50 million disabilities worldwide annually. 85% of these injury related deaths recorded happen to occur in developing countries. According to WHO (2007), RTA injuries accounted for 23% of all injury deaths worldwide. This project will demonstrate the severity of car accidents in Seattle, WA."
   ]
  },
  {
   "cell_type": "markdown",
   "metadata": {},
   "source": [
    "# Business Problem\n",
    "\n",
    "Determining the causes of Road Traffic accidents Prediction of Road Traffic accidents Determining the effects and severity of Road Traffic Accidents This project is useful to the Road Safety Corporation and stakeholders interested in the welfare and safety of road users."
   ]
  },
  {
   "cell_type": "markdown",
   "metadata": {},
   "source": [
    "# Data\n",
    "\n",
    "There are several attributes to demonstrate the severity of the accidents, such as the weather, road condition, light condition, and junction type. These determine the accidents that occur naturally. And other attributes to define how negligent or unexpected accidents occur. We'll be using severity code as our target variable, as that's an easier way to define the severity of the accident on a scale from 0 to 5 within the dataset. Attributes like weather, road condition and light condition will be used to weigh the severity of the accidents.\n",
    "\n",
    "    0 : Little to no Probability (Clear Weather Conditions)\n",
    "    1 : Very Low Probability - Chance or Property Damage\n",
    "    2 : Low Probability - Chance of Injury\n",
    "    3 : Mild Probability - Chance of Serious Injury\n",
    "    4 : High Probability - Chance of Fatality\n",
    "\n",
    "We'll be deciding the level of severity of accidents in accordance with the weather conditions."
   ]
  },
  {
   "cell_type": "markdown",
   "metadata": {},
   "source": [
    "# Methodology\n",
    "\n",
    "Machine learning algorithms will be used to closely examine the dataset and shed light on the matter."
   ]
  },
  {
   "cell_type": "code",
   "execution_count": null,
   "metadata": {},
   "outputs": [],
   "source": []
  }
 ],
 "metadata": {
  "kernelspec": {
   "display_name": "Python 3",
   "language": "python",
   "name": "python3"
  },
  "language_info": {
   "codemirror_mode": {
    "name": "ipython",
    "version": 3
   },
   "file_extension": ".py",
   "mimetype": "text/x-python",
   "name": "python",
   "nbconvert_exporter": "python",
   "pygments_lexer": "ipython3",
   "version": "3.7.4"
  }
 },
 "nbformat": 4,
 "nbformat_minor": 2
}
